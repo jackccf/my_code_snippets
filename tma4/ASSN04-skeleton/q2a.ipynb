{
 "cells": [
  {
   "cell_type": "code",
   "execution_count": null,
   "metadata": {},
   "outputs": [],
   "source": [
    "import pandas as pd\n",
    "import matplotlib.pyplot as plt\n",
    "import seaborn as sns\n",
    "import datetime as dt\n",
    "%matplotlib inline\n",
    "\n",
    "# Task 1. Load CSV file of COVID-19 cases into a dataframe using pd.read_csv()\n",
    "cases_df = None  # REPLACE WITH READING IN \n",
    "cases_df.head()\n",
    "# cases_df.tail()"
   ]
  },
  {
   "cell_type": "code",
   "execution_count": null,
   "metadata": {},
   "outputs": [],
   "source": [
    "# Task 2. Removing an empty column\n",
    "\n",
    "\n",
    "# cases_df"
   ]
  },
  {
   "cell_type": "code",
   "execution_count": null,
   "metadata": {},
   "outputs": [],
   "source": [
    "# Task 3.  Show pie charts of status of cases and the classification\n",
    "\n",
    "st_stat = cases_df.groupby(['Hospitalised/Discharged/Deceased']).count()\n",
    "st_stat = st_stat[:]['Case no.']\n",
    "print(st_stat)\n",
    "\n",
    "fig, ax = plt.subplots(2, figsize=(15, 12))\n",
    "ax[0].pie(st_stat, labels=st_stat.index, autopct='%1.1f%%', explode=(0.5, 0, 0.1, 1.2, 3.0))\n",
    "ax[0].set_title('Status of Cases')\n",
    "\n",
    "# ADD YOUR CODE HERE\n",
    "\n",
    "\n"
   ]
  },
  {
   "cell_type": "code",
   "execution_count": null,
   "metadata": {},
   "outputs": [],
   "source": [
    "# Task 4. Create a new column called ‘Asymptomatic’ and set it to ‘Y’ if the case is asymptomatic and ‘N’ if otherwise. \n",
    "\n",
    "# ADD YOUR CODE HERE"
   ]
  },
  {
   "cell_type": "code",
   "execution_count": null,
   "metadata": {},
   "outputs": [],
   "source": [
    "# Task 5. There are other text values in ‘Date of onset’ aside from ‘Asymptomatic’. Run the code below to get a list of these values and display them in your notebook.\n",
    "# Use a set to contain all the text values found in ‘Date of onset’ column\n",
    "\n",
    "#print(cases_df[1368:1373]['Date of onset'])\n",
    "cases_df['Date of onset'] = pd.to_datetime(cases_df['Date of onset'], infer_datetime_format=True, errors='coerce')\n",
    "\n",
    "# ADD YOUR CODE HERE FOR THE COLUMN 'Report date'\n",
    "\n",
    "print(cases_df[1368:1373]['Date of onset'])\n",
    "print(cases_df.dtypes)\n"
   ]
  },
  {
   "cell_type": "code",
   "execution_count": null,
   "metadata": {},
   "outputs": [],
   "source": [
    "# Task 6. Plot the number of daily reported cases\n",
    "\n",
    "# ADD YOUR CODE HERE\n"
   ]
  },
  {
   "cell_type": "code",
   "execution_count": null,
   "metadata": {},
   "outputs": [],
   "source": [
    "# Task 7. Plot the number of age < 30 cases\n",
    "\n",
    "sp_cases = cases_df[cases_df['Gender'] == 'F']\n",
    "\n"
   ]
  },
  {
   "cell_type": "code",
   "execution_count": null,
   "metadata": {},
   "outputs": [],
   "source": [
    "# Task 8. Plot the number of local cases\n",
    "\n",
    "# ADD YOUR CODE HERE"
   ]
  },
  {
   "cell_type": "code",
   "execution_count": null,
   "metadata": {},
   "outputs": [],
   "source": [
    "# Task 9. Set a new monthly index\n",
    "\n",
    "# ADD YOUR CODE HERE"
   ]
  },
  {
   "cell_type": "code",
   "execution_count": null,
   "metadata": {},
   "outputs": [],
   "source": [
    "# Task 10. Plot the monthly number of local cases \n",
    "\n",
    "# ADD YOUR CODE HERE"
   ]
  },
  {
   "cell_type": "code",
   "execution_count": null,
   "metadata": {},
   "outputs": [],
   "source": [
    "# Task 11. Run the following code to add a new column 'Diff Days' which contains the difference between 'Report Date' and 'Date of Offset' for non-asymptomatic cases.\n",
    "\n",
    "# ADD YOUR CODE HERE\n",
    "\n",
    "cases_df[0:81]"
   ]
  },
  {
   "cell_type": "code",
   "execution_count": null,
   "metadata": {},
   "outputs": [],
   "source": [
    "# Task 12. Save the dataframe to CSV file and run Statistics\n",
    "\n",
    "# ADD YOUR CODE HERE to save the dataframe to CSV file\n",
    "\n",
    "select_df = cases_df[cases_df['Hospitalised/Discharged/Deceased'] == 'Deceased']\n",
    "print('Mean Age of Deceased: ', select_df['Age'].mean())\n",
    "print('Mean Age of Deceased by Gender: ', select_df.groupby(['Gender'])['Age'].mean())\n",
    "\n",
    "print('Mean Lapse Days: ', cases_df['Lapse Days'].mean())\n"
   ]
  },
  {
   "cell_type": "code",
   "execution_count": null,
   "metadata": {},
   "outputs": [],
   "source": [
    "# "
   ]
  }
 ],
 "metadata": {
  "kernelspec": {
   "display_name": "Python 3.7.4 64-bit",
   "metadata": {
    "interpreter": {
     "hash": "aee8b7b246df8f9039afb4144a1f6fd8d2ca17a180786b69acc140d282b71a49"
    }
   },
   "name": "python3"
  },
  "language_info": {
   "codemirror_mode": {
    "name": "ipython",
    "version": 3
   },
   "file_extension": ".py",
   "mimetype": "text/x-python",
   "name": "python",
   "nbconvert_exporter": "python",
   "pygments_lexer": "ipython3",
   "version": "3.9.5"
  },
  "orig_nbformat": 2
 },
 "nbformat": 4,
 "nbformat_minor": 2
}
